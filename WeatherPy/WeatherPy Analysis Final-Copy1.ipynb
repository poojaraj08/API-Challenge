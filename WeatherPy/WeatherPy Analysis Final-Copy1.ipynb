{
 "cells": [
  {
   "cell_type": "markdown",
   "metadata": {},
   "source": [
    "# WeatherPy Analysis\n",
    "\n",
    "---\n",
    "\n",
    "## Starter Code to Generate Random Geographic Coordinates and a List of Cities"
   ]
  },
  {
   "cell_type": "code",
   "execution_count": 31,
   "metadata": {
    "scrolled": true
   },
   "outputs": [
    {
     "name": "stdout",
     "output_type": "stream",
     "text": [
      "Requirement already satisfied: citipy in c:\\users\\pooja\\anaconda3\\lib\\site-packages (0.0.5)\n",
      "Requirement already satisfied: kdtree>=0.12 in c:\\users\\pooja\\anaconda3\\lib\\site-packages (from citipy) (0.16)\n"
     ]
    }
   ],
   "source": [
    "# Dependencies and Setup\n",
    "import matplotlib.pyplot as plt\n",
    "import pandas as pd\n",
    "import numpy as np\n",
    "import requests\n",
    "import time\n",
    "from scipy.stats import linregress\n",
    "from scipy.stats import pearsonr\n",
    "!pip install citipy \n",
    "\n",
    "# Import the OpenWeatherMap API key\n",
    "from api_keys import weather_api_key\n",
    "\n",
    "# Import citipy to determine the cities based on latitude and longitude\n",
    "from citipy import citipy\n"
   ]
  },
  {
   "cell_type": "markdown",
   "metadata": {},
   "source": [
    "### Generate the Cities List by Using the `citipy` Library"
   ]
  },
  {
   "cell_type": "code",
   "execution_count": 54,
   "metadata": {},
   "outputs": [
    {
     "name": "stdout",
     "output_type": "stream",
     "text": [
      "Number of cities in the list: 601\n"
     ]
    }
   ],
   "source": [
    "# Empty list for holding the latitude and longitude combinations\n",
    "lat_lngs = []\n",
    "\n",
    "# Empty list for holding the cities names\n",
    "cities = []\n",
    "\n",
    "# Range of latitudes and longitudes\n",
    "lat_range = (-90, 90)\n",
    "lng_range = (-180, 180)\n",
    "\n",
    "# Create a set of random lat and lng combinations\n",
    "lats = np.random.uniform(lat_range[0], lat_range[1], size=1500)\n",
    "lngs = np.random.uniform(lng_range[0], lng_range[1], size=1500)\n",
    "lat_lngs = zip(lats, lngs)\n",
    "\n",
    "# Identify nearest city for each lat, lng combination\n",
    "for lat_lng in lat_lngs:\n",
    "    city = citipy.nearest_city(lat_lng[0], lat_lng[1]).city_name\n",
    "    \n",
    "    # If the city is unique, then add it to a our cities list\n",
    "    if city not in cities:\n",
    "        cities.append(city)\n",
    "\n",
    "# Print the city count to confirm sufficient count\n",
    "print(f\"Number of cities in the list: {len(cities)}\")\n"
   ]
  },
  {
   "cell_type": "markdown",
   "metadata": {},
   "source": [
    "---"
   ]
  },
  {
   "cell_type": "markdown",
   "metadata": {},
   "source": [
    "## Requirement 1: Create Plots to Showcase the Relationship Between Weather Variables and Latitude\n",
    "\n",
    "### Use the OpenWeatherMap API to retrieve weather data from the cities list generated in the started code"
   ]
  },
  {
   "cell_type": "code",
   "execution_count": 69,
   "metadata": {
    "scrolled": true
   },
   "outputs": [
    {
     "name": "stdout",
     "output_type": "stream",
     "text": [
      "Beginning Data Retrieval     \n",
      "-----------------------------\n",
      "Processing Record 1 of Set 1 | ribeira grande\n",
      "Processing Record 2 of Set 1 | taolanaro\n",
      "City not found. Skipping...\n",
      "Processing Record 3 of Set 1 | mazamari\n",
      "Processing Record 4 of Set 1 | mar del plata\n",
      "Processing Record 5 of Set 1 | garissa\n",
      "Processing Record 6 of Set 1 | la palma\n",
      "Processing Record 7 of Set 1 | ushuaia\n",
      "Processing Record 8 of Set 1 | lasa\n",
      "Processing Record 9 of Set 1 | new norfolk\n",
      "Processing Record 10 of Set 1 | san patricio\n",
      "Processing Record 11 of Set 1 | vaini\n",
      "Processing Record 12 of Set 1 | nizhneyansk\n",
      "City not found. Skipping...\n",
      "Processing Record 13 of Set 1 | hobart\n",
      "Processing Record 14 of Set 1 | mataura\n",
      "Processing Record 15 of Set 1 | poum\n",
      "Processing Record 16 of Set 1 | albany\n",
      "Processing Record 17 of Set 1 | amapa\n",
      "Processing Record 18 of Set 1 | hermanus\n",
      "Processing Record 19 of Set 1 | mehamn\n",
      "Processing Record 20 of Set 1 | kadykchan\n",
      "City not found. Skipping...\n",
      "Processing Record 21 of Set 1 | arraial do cabo\n",
      "Processing Record 22 of Set 1 | rio grande\n",
      "Processing Record 23 of Set 1 | hilo\n",
      "Processing Record 24 of Set 1 | kodiak\n",
      "Processing Record 25 of Set 1 | isabela\n",
      "Processing Record 26 of Set 1 | yeppoon\n",
      "Processing Record 27 of Set 1 | fairbanks\n",
      "Processing Record 28 of Set 1 | busselton\n",
      "Processing Record 29 of Set 1 | jamestown\n",
      "Processing Record 30 of Set 1 | rikitea\n",
      "Processing Record 31 of Set 1 | bambous virieux\n",
      "Processing Record 32 of Set 1 | maridi\n",
      "Processing Record 33 of Set 1 | port alfred\n",
      "Processing Record 34 of Set 1 | bluff\n",
      "Processing Record 35 of Set 1 | lieksa\n",
      "Processing Record 36 of Set 1 | tuatapere\n",
      "Processing Record 37 of Set 1 | husavik\n",
      "Processing Record 38 of Set 1 | tilichiki\n",
      "Processing Record 39 of Set 1 | saint-philippe\n",
      "Processing Record 40 of Set 1 | tasiilaq\n",
      "Processing Record 41 of Set 1 | nador\n",
      "Processing Record 42 of Set 1 | port elizabeth\n",
      "Processing Record 43 of Set 1 | sabha\n",
      "Processing Record 44 of Set 1 | petropavlovsk-kamchatskiy\n",
      "Processing Record 45 of Set 1 | nanortalik\n",
      "Processing Record 46 of Set 1 | wahran\n",
      "City not found. Skipping...\n",
      "Processing Record 47 of Set 1 | kieta\n",
      "Processing Record 48 of Set 1 | chuy\n",
      "Processing Record 49 of Set 1 | half moon bay\n",
      "Processing Record 50 of Set 1 | zhigansk\n",
      "Processing Record 0 of Set 2 | castro\n",
      "Processing Record 1 of Set 2 | ilulissat\n",
      "Processing Record 2 of Set 2 | nanga eboko\n",
      "Processing Record 3 of Set 2 | atuona\n",
      "Processing Record 4 of Set 2 | vinh yen\n",
      "Processing Record 5 of Set 2 | codrington\n",
      "Processing Record 6 of Set 2 | urambo\n",
      "Processing Record 7 of Set 2 | yar-sale\n",
      "Processing Record 8 of Set 2 | soledade\n",
      "Processing Record 9 of Set 2 | murud\n",
      "Processing Record 10 of Set 2 | lolua\n",
      "City not found. Skipping...\n",
      "Processing Record 11 of Set 2 | tsihombe\n",
      "City not found. Skipping...\n",
      "Processing Record 12 of Set 2 | hamilton\n",
      "Processing Record 13 of Set 2 | thompson\n",
      "Processing Record 14 of Set 2 | bredasdorp\n",
      "Processing Record 15 of Set 2 | kamenskoye\n",
      "City not found. Skipping...\n",
      "Processing Record 16 of Set 2 | punta arenas\n",
      "Processing Record 17 of Set 2 | barentsburg\n",
      "City not found. Skipping...\n",
      "Processing Record 18 of Set 2 | kintampo\n",
      "Processing Record 19 of Set 2 | cape town\n",
      "Processing Record 20 of Set 2 | puerto ayora\n",
      "Processing Record 21 of Set 2 | sao joao da barra\n",
      "Processing Record 22 of Set 2 | ampanihy\n",
      "Processing Record 23 of Set 2 | berlevag\n",
      "Processing Record 24 of Set 2 | eureka\n",
      "Processing Record 25 of Set 2 | solton\n",
      "Processing Record 26 of Set 2 | leningradskiy\n",
      "Processing Record 27 of Set 2 | hithadhoo\n",
      "Processing Record 28 of Set 2 | kidal\n",
      "Processing Record 29 of Set 2 | woodland\n",
      "Processing Record 30 of Set 2 | alofi\n",
      "Processing Record 31 of Set 2 | renqiu\n",
      "Processing Record 32 of Set 2 | yellowknife\n",
      "Processing Record 33 of Set 2 | myitkyina\n",
      "Processing Record 34 of Set 2 | tianpeng\n",
      "Processing Record 35 of Set 2 | marcona\n",
      "City not found. Skipping...\n",
      "Processing Record 36 of Set 2 | saint-augustin\n",
      "Processing Record 37 of Set 2 | san quintin\n",
      "Processing Record 38 of Set 2 | hasaki\n",
      "Processing Record 39 of Set 2 | bandarbeyla\n",
      "Processing Record 40 of Set 2 | yagoua\n",
      "Processing Record 41 of Set 2 | pyay\n",
      "Processing Record 42 of Set 2 | east london\n",
      "Processing Record 43 of Set 2 | geraldton\n",
      "Processing Record 44 of Set 2 | amderma\n",
      "City not found. Skipping...\n",
      "Processing Record 45 of Set 2 | havre-saint-pierre\n",
      "Processing Record 46 of Set 2 | bushehr\n",
      "Processing Record 47 of Set 2 | kapaa\n",
      "Processing Record 48 of Set 2 | namibe\n",
      "Processing Record 49 of Set 2 | kalofer\n",
      "Processing Record 0 of Set 3 | kabompo\n",
      "Processing Record 1 of Set 3 | chagda\n",
      "City not found. Skipping...\n",
      "Processing Record 2 of Set 3 | dingle\n",
      "Processing Record 3 of Set 3 | kadoma\n",
      "Processing Record 4 of Set 3 | lompoc\n",
      "Processing Record 5 of Set 3 | isangel\n",
      "Processing Record 6 of Set 3 | pevek\n",
      "Processing Record 7 of Set 3 | clyde river\n",
      "Processing Record 8 of Set 3 | hofn\n",
      "Processing Record 9 of Set 3 | boyolangu\n",
      "Processing Record 10 of Set 3 | butaritari\n",
      "Processing Record 11 of Set 3 | komsomolskiy\n",
      "Processing Record 12 of Set 3 | cidreira\n",
      "Processing Record 13 of Set 3 | padang\n",
      "Processing Record 14 of Set 3 | norman wells\n",
      "Processing Record 15 of Set 3 | aripuana\n",
      "Processing Record 16 of Set 3 | georgetown\n",
      "Processing Record 17 of Set 3 | bathsheba\n",
      "Processing Record 18 of Set 3 | mahanoro\n",
      "Processing Record 19 of Set 3 | yatou\n",
      "Processing Record 20 of Set 3 | bethel\n",
      "Processing Record 21 of Set 3 | tocopilla\n",
      "Processing Record 22 of Set 3 | dumbravesti\n",
      "Processing Record 23 of Set 3 | santa vitoria do palmar\n",
      "Processing Record 24 of Set 3 | alice springs\n",
      "Processing Record 25 of Set 3 | nemuro\n",
      "Processing Record 26 of Set 3 | prince rupert\n",
      "Processing Record 27 of Set 3 | quelimane\n",
      "Processing Record 28 of Set 3 | kjollefjord\n",
      "Processing Record 29 of Set 3 | salym\n",
      "Processing Record 30 of Set 3 | portland\n",
      "Processing Record 31 of Set 3 | ouahigouya\n",
      "Processing Record 32 of Set 3 | constitucion\n",
      "Processing Record 33 of Set 3 | sibolga\n",
      "Processing Record 34 of Set 3 | solovetskiy\n",
      "City not found. Skipping...\n",
      "Processing Record 35 of Set 3 | coihaique\n",
      "Processing Record 36 of Set 3 | ahipara\n",
      "Processing Record 37 of Set 3 | mahebourg\n",
      "Processing Record 38 of Set 3 | vilhena\n",
      "Processing Record 39 of Set 3 | mys shmidta\n",
      "City not found. Skipping...\n",
      "Processing Record 40 of Set 3 | belushya guba\n",
      "City not found. Skipping...\n",
      "Processing Record 41 of Set 3 | rehoboth\n",
      "Processing Record 42 of Set 3 | kargasok\n",
      "Processing Record 43 of Set 3 | marzuq\n",
      "Processing Record 44 of Set 3 | kaitangata\n",
      "Processing Record 45 of Set 3 | byron bay\n",
      "Processing Record 46 of Set 3 | illoqqortoormiut\n",
      "City not found. Skipping...\n",
      "Processing Record 47 of Set 3 | upernavik\n",
      "Processing Record 48 of Set 3 | victoria\n",
      "Processing Record 49 of Set 3 | henties bay\n",
      "Processing Record 0 of Set 4 | cherskiy\n",
      "Processing Record 1 of Set 4 | margate\n",
      "Processing Record 2 of Set 4 | bacolod\n",
      "Processing Record 3 of Set 4 | barrow\n",
      "Processing Record 4 of Set 4 | roma\n",
      "Processing Record 5 of Set 4 | ledyard\n",
      "Processing Record 6 of Set 4 | koungou\n",
      "Processing Record 7 of Set 4 | san pedro de cajas\n",
      "Processing Record 8 of Set 4 | carnarvon\n",
      "Processing Record 9 of Set 4 | lebu\n",
      "Processing Record 10 of Set 4 | dikson\n",
      "Processing Record 11 of Set 4 | forrest city\n",
      "Processing Record 12 of Set 4 | agadir\n",
      "Processing Record 13 of Set 4 | plettenberg bay\n",
      "Processing Record 14 of Set 4 | saleaula\n",
      "City not found. Skipping...\n",
      "Processing Record 15 of Set 4 | muravlenko\n",
      "Processing Record 16 of Set 4 | kahului\n",
      "Processing Record 17 of Set 4 | balkanabat\n",
      "Processing Record 18 of Set 4 | saint andrews\n",
      "Processing Record 19 of Set 4 | kavieng\n",
      "Processing Record 20 of Set 4 | bandipur\n",
      "Processing Record 21 of Set 4 | olonets\n",
      "Processing Record 22 of Set 4 | ordu\n",
      "Processing Record 23 of Set 4 | severo-kurilsk\n",
      "Processing Record 24 of Set 4 | pakhtakoron\n",
      "Processing Record 25 of Set 4 | fortuna\n",
      "Processing Record 26 of Set 4 | barmer\n",
      "Processing Record 27 of Set 4 | marinette\n",
      "Processing Record 28 of Set 4 | tiksi\n",
      "Processing Record 29 of Set 4 | longyearbyen\n",
      "Processing Record 30 of Set 4 | juneau\n",
      "Processing Record 31 of Set 4 | lazaro cardenas\n",
      "Processing Record 32 of Set 4 | iguape\n",
      "Processing Record 33 of Set 4 | kirakira\n",
      "Processing Record 34 of Set 4 | bokspits\n",
      "City not found. Skipping...\n",
      "Processing Record 35 of Set 4 | northview\n"
     ]
    },
    {
     "name": "stdout",
     "output_type": "stream",
     "text": [
      "Processing Record 36 of Set 4 | luderitz\n",
      "Processing Record 37 of Set 4 | suratgarh\n",
      "Processing Record 38 of Set 4 | ponta do sol\n",
      "Processing Record 39 of Set 4 | moron\n",
      "Processing Record 40 of Set 4 | ouesso\n",
      "Processing Record 41 of Set 4 | tuktoyaktuk\n",
      "Processing Record 42 of Set 4 | raudeberg\n",
      "Processing Record 43 of Set 4 | simdega\n",
      "Processing Record 44 of Set 4 | nara\n",
      "Processing Record 45 of Set 4 | batagay\n",
      "Processing Record 46 of Set 4 | coyuca\n",
      "City not found. Skipping...\n",
      "Processing Record 47 of Set 4 | huarmey\n",
      "Processing Record 48 of Set 4 | atherton\n",
      "Processing Record 49 of Set 4 | mullaitivu\n",
      "City not found. Skipping...\n",
      "Processing Record 0 of Set 5 | temir\n",
      "Processing Record 1 of Set 5 | coquimbo\n",
      "Processing Record 2 of Set 5 | sale\n",
      "Processing Record 3 of Set 5 | marsabit\n",
      "Processing Record 4 of Set 5 | shiyan\n",
      "Processing Record 5 of Set 5 | aswan\n",
      "Processing Record 6 of Set 5 | cabo san lucas\n",
      "Processing Record 7 of Set 5 | port hedland\n",
      "Processing Record 8 of Set 5 | samusu\n",
      "City not found. Skipping...\n",
      "Processing Record 9 of Set 5 | maryville\n",
      "Processing Record 10 of Set 5 | vaitupu\n",
      "City not found. Skipping...\n",
      "Processing Record 11 of Set 5 | airai\n",
      "Processing Record 12 of Set 5 | belomorsk\n",
      "Processing Record 13 of Set 5 | dimona\n",
      "Processing Record 14 of Set 5 | yabrud\n",
      "Processing Record 15 of Set 5 | xining\n",
      "Processing Record 16 of Set 5 | williston\n",
      "Processing Record 17 of Set 5 | tahe\n",
      "Processing Record 18 of Set 5 | chapais\n",
      "Processing Record 19 of Set 5 | matara\n",
      "Processing Record 20 of Set 5 | xichang\n",
      "Processing Record 21 of Set 5 | tura\n",
      "Processing Record 22 of Set 5 | andevoranto\n",
      "City not found. Skipping...\n",
      "Processing Record 23 of Set 5 | avarua\n",
      "Processing Record 24 of Set 5 | mardin\n",
      "Processing Record 25 of Set 5 | qaanaaq\n",
      "Processing Record 26 of Set 5 | ongandjera\n",
      "Processing Record 27 of Set 5 | meulaboh\n",
      "Processing Record 28 of Set 5 | qeshm\n",
      "Processing Record 29 of Set 5 | sungaipenuh\n",
      "Processing Record 30 of Set 5 | ferme-neuve\n",
      "Processing Record 31 of Set 5 | ormara\n",
      "Processing Record 32 of Set 5 | mujiayingzi\n",
      "Processing Record 33 of Set 5 | salalah\n",
      "Processing Record 34 of Set 5 | vanimo\n",
      "Processing Record 35 of Set 5 | mocuba\n",
      "Processing Record 36 of Set 5 | ati\n",
      "Processing Record 37 of Set 5 | bengkulu\n",
      "Processing Record 38 of Set 5 | torbay\n",
      "Processing Record 39 of Set 5 | praya\n",
      "Processing Record 40 of Set 5 | touros\n",
      "Processing Record 41 of Set 5 | yandoon\n",
      "City not found. Skipping...\n",
      "Processing Record 42 of Set 5 | gazni\n",
      "City not found. Skipping...\n",
      "Processing Record 43 of Set 5 | westerland\n",
      "Processing Record 44 of Set 5 | chokurdakh\n",
      "Processing Record 45 of Set 5 | puerto baquerizo moreno\n",
      "Processing Record 46 of Set 5 | talnakh\n",
      "Processing Record 47 of Set 5 | bubaque\n",
      "Processing Record 48 of Set 5 | nantucket\n",
      "Processing Record 49 of Set 5 | provideniya\n",
      "Processing Record 0 of Set 6 | salta\n",
      "Processing Record 1 of Set 6 | sorland\n",
      "Processing Record 2 of Set 6 | honiara\n",
      "Processing Record 3 of Set 6 | attawapiskat\n",
      "City not found. Skipping...\n",
      "Processing Record 4 of Set 6 | saint george\n",
      "Processing Record 5 of Set 6 | aksu\n",
      "Processing Record 6 of Set 6 | aklavik\n",
      "Processing Record 7 of Set 6 | belmonte\n",
      "Processing Record 8 of Set 6 | blackwater\n",
      "Processing Record 9 of Set 6 | thongwa\n",
      "Processing Record 10 of Set 6 | buenavista\n",
      "Processing Record 11 of Set 6 | yerbogachen\n",
      "Processing Record 12 of Set 6 | nova vicosa\n",
      "Processing Record 13 of Set 6 | erdenet\n",
      "Processing Record 14 of Set 6 | non sang\n",
      "Processing Record 15 of Set 6 | khatanga\n",
      "Processing Record 16 of Set 6 | vieksniai\n",
      "Processing Record 17 of Set 6 | erenhot\n",
      "Processing Record 18 of Set 6 | fortuna foothills\n",
      "Processing Record 19 of Set 6 | agadez\n",
      "Processing Record 20 of Set 6 | bagamoyo\n",
      "Processing Record 21 of Set 6 | klaksvik\n",
      "Processing Record 22 of Set 6 | kousseri\n",
      "Processing Record 23 of Set 6 | brae\n",
      "Processing Record 24 of Set 6 | faanui\n",
      "Processing Record 25 of Set 6 | villa del rosario\n",
      "Processing Record 26 of Set 6 | ijaki\n",
      "City not found. Skipping...\n",
      "Processing Record 27 of Set 6 | rio gallegos\n",
      "Processing Record 28 of Set 6 | tazovskiy\n",
      "Processing Record 29 of Set 6 | guadalajara\n",
      "Processing Record 30 of Set 6 | oranjemund\n",
      "Processing Record 31 of Set 6 | la ronge\n",
      "Processing Record 32 of Set 6 | taltal\n",
      "Processing Record 33 of Set 6 | hambantota\n",
      "Processing Record 34 of Set 6 | naze\n",
      "Processing Record 35 of Set 6 | litoral del san juan\n",
      "City not found. Skipping...\n",
      "Processing Record 36 of Set 6 | elmadag\n",
      "Processing Record 37 of Set 6 | mana\n",
      "Processing Record 38 of Set 6 | vila velha\n",
      "Processing Record 39 of Set 6 | iqaluit\n",
      "Processing Record 40 of Set 6 | powell\n",
      "Processing Record 41 of Set 6 | narsaq\n",
      "Processing Record 42 of Set 6 | lata\n",
      "Processing Record 43 of Set 6 | anadyr\n",
      "Processing Record 44 of Set 6 | hinton\n",
      "Processing Record 45 of Set 6 | lidkoping\n",
      "Processing Record 46 of Set 6 | imbituba\n",
      "Processing Record 47 of Set 6 | pacific grove\n",
      "Processing Record 48 of Set 6 | singaraja\n",
      "Processing Record 49 of Set 6 | dunedin\n",
      "Processing Record 0 of Set 7 | pisco\n",
      "Processing Record 1 of Set 7 | port-cartier\n",
      "Processing Record 2 of Set 7 | katsuura\n",
      "Processing Record 3 of Set 7 | bangassou\n",
      "Processing Record 4 of Set 7 | chumikan\n",
      "Processing Record 5 of Set 7 | grand gaube\n",
      "Processing Record 6 of Set 7 | ambovombe\n",
      "Processing Record 7 of Set 7 | sao filipe\n",
      "Processing Record 8 of Set 7 | moose factory\n",
      "Processing Record 9 of Set 7 | kruisfontein\n",
      "Processing Record 10 of Set 7 | okmulgee\n",
      "Processing Record 11 of Set 7 | ipil\n",
      "Processing Record 12 of Set 7 | nizwa\n",
      "Processing Record 13 of Set 7 | vostok\n",
      "Processing Record 14 of Set 7 | wilmington\n",
      "Processing Record 15 of Set 7 | schotten\n",
      "Processing Record 16 of Set 7 | yuzhno-kurilsk\n",
      "Processing Record 17 of Set 7 | lagoa\n",
      "Processing Record 18 of Set 7 | aberdeen\n",
      "Processing Record 19 of Set 7 | labytnangi\n",
      "Processing Record 20 of Set 7 | janauba\n",
      "Processing Record 21 of Set 7 | sahrak\n",
      "City not found. Skipping...\n",
      "Processing Record 22 of Set 7 | sukhothai\n",
      "Processing Record 23 of Set 7 | centralia\n",
      "Processing Record 24 of Set 7 | kloulklubed\n",
      "Processing Record 25 of Set 7 | arlit\n",
      "Processing Record 26 of Set 7 | kuusamo\n",
      "Processing Record 27 of Set 7 | te anau\n",
      "Processing Record 28 of Set 7 | olafsvik\n",
      "Processing Record 29 of Set 7 | belaya gora\n",
      "Processing Record 30 of Set 7 | jinka\n",
      "Processing Record 31 of Set 7 | shingu\n",
      "Processing Record 32 of Set 7 | payo\n",
      "Processing Record 33 of Set 7 | otradnyy\n",
      "Processing Record 34 of Set 7 | progreso\n",
      "Processing Record 35 of Set 7 | bolshoye sorokino\n",
      "City not found. Skipping...\n",
      "Processing Record 36 of Set 7 | saint-georges\n",
      "Processing Record 37 of Set 7 | comodoro rivadavia\n",
      "Processing Record 38 of Set 7 | flin flon\n",
      "Processing Record 39 of Set 7 | hauterive\n",
      "Processing Record 40 of Set 7 | waren\n",
      "Processing Record 41 of Set 7 | nishihara\n",
      "Processing Record 42 of Set 7 | dabakala\n",
      "Processing Record 43 of Set 7 | verkhovazhye\n",
      "Processing Record 44 of Set 7 | latung\n",
      "Processing Record 45 of Set 7 | adelaide\n",
      "Processing Record 46 of Set 7 | bantry\n",
      "Processing Record 47 of Set 7 | monrovia\n",
      "Processing Record 48 of Set 7 | chimore\n",
      "Processing Record 49 of Set 7 | paamiut\n",
      "Processing Record 0 of Set 8 | sentyabrskiy\n",
      "City not found. Skipping...\n",
      "Processing Record 1 of Set 8 | tomatlan\n",
      "Processing Record 2 of Set 8 | acapulco\n",
      "Processing Record 3 of Set 8 | bongaree\n",
      "Processing Record 4 of Set 8 | saint-pierre\n",
      "Processing Record 5 of Set 8 | morrope\n",
      "Processing Record 6 of Set 8 | beyneu\n",
      "Processing Record 7 of Set 8 | myanaung\n",
      "Processing Record 8 of Set 8 | asau\n",
      "Processing Record 9 of Set 8 | svetlaya\n",
      "Processing Record 10 of Set 8 | carutapera\n",
      "Processing Record 11 of Set 8 | haines junction\n",
      "Processing Record 12 of Set 8 | cayenne\n",
      "Processing Record 13 of Set 8 | araouane\n",
      "Processing Record 14 of Set 8 | deputatskiy\n",
      "Processing Record 15 of Set 8 | vao\n",
      "Processing Record 16 of Set 8 | san jose\n",
      "Processing Record 17 of Set 8 | anito\n",
      "Processing Record 18 of Set 8 | bossembele\n",
      "City not found. Skipping...\n",
      "Processing Record 19 of Set 8 | taganak\n",
      "Processing Record 20 of Set 8 | srednekolymsk\n",
      "Processing Record 21 of Set 8 | lorengau\n",
      "Processing Record 22 of Set 8 | aurdal\n",
      "Processing Record 23 of Set 8 | nokaneng\n",
      "Processing Record 24 of Set 8 | yayva\n",
      "Processing Record 25 of Set 8 | lavrentiya\n",
      "Processing Record 26 of Set 8 | sturgis\n"
     ]
    },
    {
     "name": "stdout",
     "output_type": "stream",
     "text": [
      "Processing Record 27 of Set 8 | muscat\n",
      "Processing Record 28 of Set 8 | karata\n",
      "Processing Record 29 of Set 8 | natal\n",
      "Processing Record 30 of Set 8 | amboasary\n",
      "Processing Record 31 of Set 8 | tual\n",
      "Processing Record 32 of Set 8 | souillac\n",
      "Processing Record 33 of Set 8 | lhokseumawe\n",
      "Processing Record 34 of Set 8 | umm kaddadah\n",
      "Processing Record 35 of Set 8 | paita\n",
      "Processing Record 36 of Set 8 | tubuala\n",
      "Processing Record 37 of Set 8 | jejuri\n",
      "Processing Record 38 of Set 8 | vestmannaeyjar\n",
      "Processing Record 39 of Set 8 | lafiagi\n",
      "Processing Record 40 of Set 8 | nizhniy kuranakh\n",
      "Processing Record 41 of Set 8 | sibenik\n",
      "Processing Record 42 of Set 8 | golpayegan\n",
      "Processing Record 43 of Set 8 | tsabong\n",
      "Processing Record 44 of Set 8 | bilma\n",
      "Processing Record 45 of Set 8 | novikovo\n",
      "Processing Record 46 of Set 8 | imeni poliny osipenko\n",
      "Processing Record 47 of Set 8 | verkhnetulomskiy\n",
      "Processing Record 48 of Set 8 | taonan\n",
      "Processing Record 49 of Set 8 | abaza\n",
      "Processing Record 0 of Set 9 | alangudi\n",
      "Processing Record 1 of Set 9 | buala\n",
      "Processing Record 2 of Set 9 | eirunepe\n",
      "Processing Record 3 of Set 9 | bara\n",
      "Processing Record 4 of Set 9 | jinchengjiang\n",
      "City not found. Skipping...\n",
      "Processing Record 5 of Set 9 | toliary\n",
      "City not found. Skipping...\n",
      "Processing Record 6 of Set 9 | ovsyanka\n",
      "Processing Record 7 of Set 9 | bandiagara\n",
      "Processing Record 8 of Set 9 | kachiry\n",
      "Processing Record 9 of Set 9 | safaga\n",
      "Processing Record 10 of Set 9 | gonzalez\n",
      "Processing Record 11 of Set 9 | zaysan\n",
      "Processing Record 12 of Set 9 | ruidoso\n",
      "Processing Record 13 of Set 9 | tete\n",
      "Processing Record 14 of Set 9 | faya\n",
      "Processing Record 15 of Set 9 | turbat\n",
      "Processing Record 16 of Set 9 | pangnirtung\n",
      "Processing Record 17 of Set 9 | nikolskoye\n",
      "Processing Record 18 of Set 9 | neiafu\n",
      "Processing Record 19 of Set 9 | tahta\n",
      "Processing Record 20 of Set 9 | bima\n",
      "Processing Record 21 of Set 9 | los llanos de aridane\n",
      "Processing Record 22 of Set 9 | puerto palomas\n",
      "Processing Record 23 of Set 9 | semey\n",
      "Processing Record 24 of Set 9 | north myrtle beach\n",
      "Processing Record 25 of Set 9 | mareeba\n",
      "Processing Record 26 of Set 9 | saskylakh\n",
      "Processing Record 27 of Set 9 | kuche\n",
      "City not found. Skipping...\n",
      "Processing Record 28 of Set 9 | eyl\n",
      "Processing Record 29 of Set 9 | kaeo\n",
      "Processing Record 30 of Set 9 | severnyy\n",
      "Processing Record 31 of Set 9 | praia\n",
      "Processing Record 32 of Set 9 | conde\n",
      "Processing Record 33 of Set 9 | vila franca do campo\n",
      "Processing Record 34 of Set 9 | aplahoue\n",
      "Processing Record 35 of Set 9 | saldanha\n",
      "Processing Record 36 of Set 9 | tecoanapa\n",
      "Processing Record 37 of Set 9 | carbonia\n",
      "Processing Record 38 of Set 9 | kokopo\n",
      "Processing Record 39 of Set 9 | senador guiomard\n",
      "Processing Record 40 of Set 9 | kirillov\n",
      "Processing Record 41 of Set 9 | ponta delgada\n",
      "Processing Record 42 of Set 9 | livingston\n",
      "Processing Record 43 of Set 9 | porto novo\n",
      "Processing Record 44 of Set 9 | grindavik\n",
      "Processing Record 45 of Set 9 | dalvik\n",
      "Processing Record 46 of Set 9 | oloron-sainte-marie\n",
      "Processing Record 47 of Set 9 | mikhaylovsk\n",
      "Processing Record 48 of Set 9 | areosa\n",
      "Processing Record 49 of Set 9 | adrar\n",
      "Processing Record 0 of Set 10 | laurel\n",
      "Processing Record 1 of Set 10 | bonthe\n",
      "Processing Record 2 of Set 10 | saint paul\n",
      "Processing Record 3 of Set 10 | hope\n",
      "Processing Record 4 of Set 10 | sitka\n",
      "Processing Record 5 of Set 10 | ancud\n",
      "Processing Record 6 of Set 10 | jacksonville beach\n",
      "Processing Record 7 of Set 10 | minas\n",
      "Processing Record 8 of Set 10 | tumut\n",
      "Processing Record 9 of Set 10 | kiama\n",
      "Processing Record 10 of Set 10 | loreto\n",
      "Processing Record 11 of Set 10 | murgab\n",
      "Processing Record 12 of Set 10 | muzhi\n",
      "Processing Record 13 of Set 10 | bentiu\n",
      "Processing Record 14 of Set 10 | giovinazzo\n",
      "Processing Record 15 of Set 10 | raga\n",
      "Processing Record 16 of Set 10 | saiki\n",
      "Processing Record 17 of Set 10 | faro\n",
      "Processing Record 18 of Set 10 | ossora\n",
      "Processing Record 19 of Set 10 | valdivia\n",
      "Processing Record 20 of Set 10 | aktau\n",
      "Processing Record 21 of Set 10 | san policarpo\n",
      "Processing Record 22 of Set 10 | ouegoa\n",
      "Processing Record 23 of Set 10 | takab\n",
      "Processing Record 24 of Set 10 | longview\n",
      "Processing Record 25 of Set 10 | grand river south east\n",
      "City not found. Skipping...\n",
      "Processing Record 26 of Set 10 | yuzhnyy\n",
      "Processing Record 27 of Set 10 | sirumugai\n",
      "Processing Record 28 of Set 10 | sawakin\n",
      "Processing Record 29 of Set 10 | olinda\n",
      "Processing Record 30 of Set 10 | jalingo\n",
      "Processing Record 31 of Set 10 | mount gambier\n",
      "Processing Record 32 of Set 10 | najran\n",
      "Processing Record 33 of Set 10 | beaverlodge\n",
      "Processing Record 34 of Set 10 | esperance\n",
      "Processing Record 35 of Set 10 | luxor\n",
      "Processing Record 36 of Set 10 | rafaela\n",
      "Processing Record 37 of Set 10 | kingisepp\n",
      "Processing Record 38 of Set 10 | avera\n",
      "Processing Record 39 of Set 10 | tavda\n",
      "Processing Record 40 of Set 10 | tadine\n",
      "Processing Record 41 of Set 10 | daru\n",
      "Processing Record 42 of Set 10 | buraydah\n",
      "Processing Record 43 of Set 10 | watsa\n",
      "Processing Record 44 of Set 10 | tinskoy\n",
      "Processing Record 45 of Set 10 | maragogi\n",
      "Processing Record 46 of Set 10 | gigmoto\n",
      "Processing Record 47 of Set 10 | alta floresta\n",
      "Processing Record 48 of Set 10 | ternate\n",
      "Processing Record 49 of Set 10 | dobroye\n",
      "Processing Record 0 of Set 11 | bud\n",
      "Processing Record 1 of Set 11 | acajutla\n",
      "Processing Record 2 of Set 11 | havelock\n",
      "Processing Record 3 of Set 11 | krabi\n",
      "Processing Record 4 of Set 11 | kovylkino\n",
      "Processing Record 5 of Set 11 | urusha\n",
      "Processing Record 6 of Set 11 | nakhon phanom\n",
      "Processing Record 7 of Set 11 | baykit\n",
      "Processing Record 8 of Set 11 | taft\n",
      "Processing Record 9 of Set 11 | krasnovishersk\n",
      "Processing Record 10 of Set 11 | stromness\n",
      "Processing Record 11 of Set 11 | tyumen\n",
      "Processing Record 12 of Set 11 | barra do corda\n",
      "Processing Record 13 of Set 11 | hafizabad\n",
      "Processing Record 14 of Set 11 | gilgit\n",
      "Processing Record 15 of Set 11 | aden\n",
      "Processing Record 16 of Set 11 | pimampiro\n",
      "Processing Record 17 of Set 11 | falealupo\n",
      "City not found. Skipping...\n",
      "Processing Record 18 of Set 11 | pangai\n",
      "Processing Record 19 of Set 11 | poli\n",
      "Processing Record 20 of Set 11 | pacifica\n",
      "Processing Record 21 of Set 11 | khorixas\n",
      "Processing Record 22 of Set 11 | ondjiva\n",
      "Processing Record 23 of Set 11 | armeria\n",
      "Processing Record 24 of Set 11 | port-gentil\n",
      "Processing Record 25 of Set 11 | marawi\n",
      "Processing Record 26 of Set 11 | youghal\n",
      "Processing Record 27 of Set 11 | kulhudhuffushi\n",
      "Processing Record 28 of Set 11 | saint-louis\n",
      "Processing Record 29 of Set 11 | pitsunda\n",
      "Processing Record 30 of Set 11 | adre\n",
      "Processing Record 31 of Set 11 | mutsamudu\n",
      "City not found. Skipping...\n",
      "Processing Record 32 of Set 11 | urubicha\n",
      "Processing Record 33 of Set 11 | qrendi\n",
      "Processing Record 34 of Set 11 | alcoentre\n",
      "Processing Record 35 of Set 11 | metro\n",
      "Processing Record 36 of Set 11 | shubarshi\n",
      "Processing Record 37 of Set 11 | hitoyoshi\n",
      "Processing Record 38 of Set 11 | joshimath\n",
      "Processing Record 39 of Set 11 | tabuk\n",
      "Processing Record 40 of Set 11 | craig\n",
      "Processing Record 41 of Set 11 | maneadero\n",
      "Processing Record 42 of Set 11 | ketchikan\n",
      "Processing Record 43 of Set 11 | barcs\n",
      "Processing Record 44 of Set 11 | san angelo\n",
      "Processing Record 45 of Set 11 | nam tha\n",
      "City not found. Skipping...\n",
      "Processing Record 46 of Set 11 | paucartambo\n",
      "City not found. Skipping...\n",
      "Processing Record 47 of Set 11 | melbu\n",
      "Processing Record 48 of Set 11 | gostilitsy\n",
      "Processing Record 49 of Set 11 | pemangkat\n",
      "Processing Record 0 of Set 12 | bozeman\n",
      "Processing Record 1 of Set 12 | karaton\n",
      "Processing Record 2 of Set 12 | kesennuma\n",
      "City not found. Skipping...\n",
      "Processing Record 3 of Set 12 | portel\n",
      "Processing Record 4 of Set 12 | ewo\n",
      "Processing Record 5 of Set 12 | camacha\n",
      "Processing Record 6 of Set 12 | iskilip\n",
      "Processing Record 7 of Set 12 | ambilobe\n",
      "Processing Record 8 of Set 12 | tando adam\n",
      "Processing Record 9 of Set 12 | hualmay\n",
      "Processing Record 10 of Set 12 | zhanaozen\n",
      "Processing Record 11 of Set 12 | kayerkan\n",
      "Processing Record 12 of Set 12 | palmer\n",
      "Processing Record 13 of Set 12 | namatanai\n",
      "Processing Record 14 of Set 12 | ixtapa\n",
      "Processing Record 15 of Set 12 | zonguldak\n",
      "Processing Record 16 of Set 12 | viedma\n",
      "Processing Record 17 of Set 12 | vanavara\n",
      "Processing Record 18 of Set 12 | ekhabi\n",
      "Processing Record 19 of Set 12 | verkhnevilyuysk\n"
     ]
    },
    {
     "name": "stdout",
     "output_type": "stream",
     "text": [
      "Processing Record 20 of Set 12 | evensk\n",
      "Processing Record 21 of Set 12 | constanta\n",
      "Processing Record 22 of Set 12 | cururupu\n",
      "Processing Record 23 of Set 12 | ngukurr\n",
      "City not found. Skipping...\n",
      "Processing Record 24 of Set 12 | rawson\n",
      "Processing Record 25 of Set 12 | liusha\n",
      "Processing Record 26 of Set 12 | alausi\n",
      "Processing Record 27 of Set 12 | kothen\n",
      "Processing Record 28 of Set 12 | broome\n",
      "Processing Record 29 of Set 12 | banda aceh\n",
      "Processing Record 30 of Set 12 | kampot\n",
      "Processing Record 31 of Set 12 | vrangel\n",
      "Processing Record 32 of Set 12 | yulara\n",
      "Processing Record 33 of Set 12 | itoman\n",
      "Processing Record 34 of Set 12 | kushmurun\n",
      "Processing Record 35 of Set 12 | inhambane\n",
      "Processing Record 36 of Set 12 | scarborough\n",
      "Processing Record 37 of Set 12 | koson\n",
      "Processing Record 38 of Set 12 | londoko\n",
      "Processing Record 39 of Set 12 | umzimvubu\n",
      "City not found. Skipping...\n",
      "Processing Record 40 of Set 12 | sambava\n",
      "Processing Record 41 of Set 12 | sirari\n",
      "Processing Record 42 of Set 12 | kalmunai\n",
      "Processing Record 43 of Set 12 | pontianak\n",
      "Processing Record 44 of Set 12 | ostrovnoy\n",
      "Processing Record 45 of Set 12 | siena\n",
      "Processing Record 46 of Set 12 | mayumba\n",
      "Processing Record 47 of Set 12 | inderborskiy\n",
      "City not found. Skipping...\n",
      "Processing Record 48 of Set 12 | oistins\n",
      "Processing Record 49 of Set 12 | bilibino\n",
      "Processing Record 0 of Set 13 | dubrovnik\n",
      "-----------------------------\n",
      "Data Retrieval Complete      \n",
      "-----------------------------\n"
     ]
    }
   ],
   "source": [
    "# Set the API base URL\n",
    "url = f\"https://api.openweathermap.org/data/2.5/weather?appid={weather_api_key}\"\n",
    "\n",
    "# Define an empty list to fetch the weather data for each city\n",
    "city_data = []\n",
    "\n",
    "# Print to logger\n",
    "print(\"Beginning Data Retrieval     \")\n",
    "print(\"-----------------------------\")\n",
    "\n",
    "# Create counters\n",
    "record_count = 1\n",
    "set_count = 1\n",
    "\n",
    "# Loop through all the cities in our list to fetch weather data\n",
    "for i, city in enumerate(cities):\n",
    "        \n",
    "    # Group cities in sets of 50 for logging purposes\n",
    "    if (i % 50 == 0 and i >= 50):\n",
    "        set_count += 1\n",
    "        record_count = 0\n",
    "\n",
    "    # Create endpoint URL with each city\n",
    "    city_url = f\"https://api.openweathermap.org/data/2.5/weather?units=Imperial&q={city}&appid={weather_api_key}\"\n",
    "    \n",
    "    # Log the url, record, and set numbers\n",
    "    print(\"Processing Record %s of Set %s | %s\" % (record_count, set_count, city))\n",
    "\n",
    "    # Add 1 to the record count\n",
    "    record_count += 1\n",
    "\n",
    "    # Run an API request for each of the cities\n",
    "    try:\n",
    "        # Parse the JSON and retrieve data\n",
    "        city_weather = requests.get(city_url).json()\n",
    "\n",
    "        # Parse out latitude, longitude, max temp, humidity, cloudiness, wind speed, country, and date\n",
    "        city_lat = city_weather['coord']['lat']\n",
    "        city_lng = city_weather['coord']['lon']\n",
    "        city_max_temp = city_weather['main']['temp_max']\n",
    "        city_humidity = city_weather['main']['humidity']\n",
    "        city_clouds = city_weather['clouds']['all']\n",
    "        city_wind = city_weather['wind']['speed']\n",
    "        city_country = city_weather['sys']['country']\n",
    "        city_date = city_weather['dt']\n",
    "\n",
    "        # Append the City information into city_data list\n",
    "        city_data.append({\"City\": city, \n",
    "                          \"Lat\": city_lat, \n",
    "                          \"Lng\": city_lng, \n",
    "                          \"Max Temp\": city_max_temp,\n",
    "                          \"Humidity\": city_humidity,\n",
    "                          \"Cloudiness\": city_clouds,\n",
    "                          \"Wind Speed\": city_wind,\n",
    "                          \"Country\": city_country,\n",
    "                          \"Date\": city_date})\n",
    "\n",
    "        \n",
    "    # If an error is experienced, skip the city\n",
    "    except:\n",
    "        print(\"City not found. Skipping...\")\n",
    "        pass\n",
    "    \n",
    "            \n",
    "# Indicate that Data Loading is complete \n",
    "print(\"-----------------------------\")\n",
    "print(\"Data Retrieval Complete      \")\n",
    "print(\"-----------------------------\")"
   ]
  },
  {
   "cell_type": "code",
   "execution_count": null,
   "metadata": {},
   "outputs": [],
   "source": [
    "city_data_df.to"
   ]
  },
  {
   "cell_type": "code",
   "execution_count": 70,
   "metadata": {},
   "outputs": [
    {
     "data": {
      "text/plain": [
       "City          558\n",
       "Lat           558\n",
       "Lng           558\n",
       "Max Temp      558\n",
       "Humidity      558\n",
       "Cloudiness    558\n",
       "Wind Speed    558\n",
       "Country       558\n",
       "Date          558\n",
       "dtype: int64"
      ]
     },
     "execution_count": 70,
     "metadata": {},
     "output_type": "execute_result"
    }
   ],
   "source": [
    "# Convert the cities weather data into a Pandas DataFrame\n",
    "city_data_df = pd.DataFrame(city_data)\n",
    "\n",
    "# Show Record Count\n",
    "city_data_df.count()"
   ]
  },
  {
   "cell_type": "code",
   "execution_count": 71,
   "metadata": {},
   "outputs": [
    {
     "data": {
      "text/html": [
       "<div>\n",
       "<style scoped>\n",
       "    .dataframe tbody tr th:only-of-type {\n",
       "        vertical-align: middle;\n",
       "    }\n",
       "\n",
       "    .dataframe tbody tr th {\n",
       "        vertical-align: top;\n",
       "    }\n",
       "\n",
       "    .dataframe thead th {\n",
       "        text-align: right;\n",
       "    }\n",
       "</style>\n",
       "<table border=\"1\" class=\"dataframe\">\n",
       "  <thead>\n",
       "    <tr style=\"text-align: right;\">\n",
       "      <th></th>\n",
       "      <th>City</th>\n",
       "      <th>Lat</th>\n",
       "      <th>Lng</th>\n",
       "      <th>Max Temp</th>\n",
       "      <th>Humidity</th>\n",
       "      <th>Cloudiness</th>\n",
       "      <th>Wind Speed</th>\n",
       "      <th>Country</th>\n",
       "      <th>Date</th>\n",
       "    </tr>\n",
       "  </thead>\n",
       "  <tbody>\n",
       "    <tr>\n",
       "      <th>0</th>\n",
       "      <td>ribeira grande</td>\n",
       "      <td>38.5167</td>\n",
       "      <td>-28.7000</td>\n",
       "      <td>57.78</td>\n",
       "      <td>90</td>\n",
       "      <td>10</td>\n",
       "      <td>4.00</td>\n",
       "      <td>PT</td>\n",
       "      <td>1674626076</td>\n",
       "    </tr>\n",
       "    <tr>\n",
       "      <th>1</th>\n",
       "      <td>mazamari</td>\n",
       "      <td>-11.3258</td>\n",
       "      <td>-74.5308</td>\n",
       "      <td>67.60</td>\n",
       "      <td>97</td>\n",
       "      <td>52</td>\n",
       "      <td>2.08</td>\n",
       "      <td>PE</td>\n",
       "      <td>1674626221</td>\n",
       "    </tr>\n",
       "    <tr>\n",
       "      <th>2</th>\n",
       "      <td>mar del plata</td>\n",
       "      <td>-38.0023</td>\n",
       "      <td>-57.5575</td>\n",
       "      <td>67.08</td>\n",
       "      <td>73</td>\n",
       "      <td>100</td>\n",
       "      <td>15.01</td>\n",
       "      <td>AR</td>\n",
       "      <td>1674626123</td>\n",
       "    </tr>\n",
       "    <tr>\n",
       "      <th>3</th>\n",
       "      <td>garissa</td>\n",
       "      <td>-0.4536</td>\n",
       "      <td>39.6401</td>\n",
       "      <td>78.87</td>\n",
       "      <td>69</td>\n",
       "      <td>94</td>\n",
       "      <td>5.88</td>\n",
       "      <td>KE</td>\n",
       "      <td>1674626223</td>\n",
       "    </tr>\n",
       "    <tr>\n",
       "      <th>4</th>\n",
       "      <td>la palma</td>\n",
       "      <td>33.8464</td>\n",
       "      <td>-118.0467</td>\n",
       "      <td>58.10</td>\n",
       "      <td>83</td>\n",
       "      <td>0</td>\n",
       "      <td>2.06</td>\n",
       "      <td>US</td>\n",
       "      <td>1674626223</td>\n",
       "    </tr>\n",
       "  </tbody>\n",
       "</table>\n",
       "</div>"
      ],
      "text/plain": [
       "             City      Lat       Lng  Max Temp  Humidity  Cloudiness  \\\n",
       "0  ribeira grande  38.5167  -28.7000     57.78        90          10   \n",
       "1        mazamari -11.3258  -74.5308     67.60        97          52   \n",
       "2   mar del plata -38.0023  -57.5575     67.08        73         100   \n",
       "3         garissa  -0.4536   39.6401     78.87        69          94   \n",
       "4        la palma  33.8464 -118.0467     58.10        83           0   \n",
       "\n",
       "   Wind Speed Country        Date  \n",
       "0        4.00      PT  1674626076  \n",
       "1        2.08      PE  1674626221  \n",
       "2       15.01      AR  1674626123  \n",
       "3        5.88      KE  1674626223  \n",
       "4        2.06      US  1674626223  "
      ]
     },
     "execution_count": 71,
     "metadata": {},
     "output_type": "execute_result"
    }
   ],
   "source": [
    "# Display sample data\n",
    "city_data_df.head()"
   ]
  },
  {
   "cell_type": "code",
   "execution_count": 72,
   "metadata": {},
   "outputs": [],
   "source": [
    "# Export the City_Data into a csv\n",
    "city_data_df.to_csv(\"cities.csv\", index_label=\"City_ID\")"
   ]
  },
  {
   "cell_type": "code",
   "execution_count": 3,
   "metadata": {},
   "outputs": [
    {
     "data": {
      "text/html": [
       "<div>\n",
       "<style scoped>\n",
       "    .dataframe tbody tr th:only-of-type {\n",
       "        vertical-align: middle;\n",
       "    }\n",
       "\n",
       "    .dataframe tbody tr th {\n",
       "        vertical-align: top;\n",
       "    }\n",
       "\n",
       "    .dataframe thead th {\n",
       "        text-align: right;\n",
       "    }\n",
       "</style>\n",
       "<table border=\"1\" class=\"dataframe\">\n",
       "  <thead>\n",
       "    <tr style=\"text-align: right;\">\n",
       "      <th></th>\n",
       "      <th>City</th>\n",
       "      <th>Lat</th>\n",
       "      <th>Lng</th>\n",
       "      <th>Max Temp</th>\n",
       "      <th>Humidity</th>\n",
       "      <th>Cloudiness</th>\n",
       "      <th>Wind Speed</th>\n",
       "      <th>Country</th>\n",
       "      <th>Date</th>\n",
       "    </tr>\n",
       "    <tr>\n",
       "      <th>City_ID</th>\n",
       "      <th></th>\n",
       "      <th></th>\n",
       "      <th></th>\n",
       "      <th></th>\n",
       "      <th></th>\n",
       "      <th></th>\n",
       "      <th></th>\n",
       "      <th></th>\n",
       "      <th></th>\n",
       "    </tr>\n",
       "  </thead>\n",
       "  <tbody>\n",
       "    <tr>\n",
       "      <th>0</th>\n",
       "      <td>ribeira grande</td>\n",
       "      <td>38.5167</td>\n",
       "      <td>-28.7000</td>\n",
       "      <td>57.78</td>\n",
       "      <td>90</td>\n",
       "      <td>10</td>\n",
       "      <td>4.00</td>\n",
       "      <td>PT</td>\n",
       "      <td>1674626076</td>\n",
       "    </tr>\n",
       "    <tr>\n",
       "      <th>1</th>\n",
       "      <td>mazamari</td>\n",
       "      <td>-11.3258</td>\n",
       "      <td>-74.5308</td>\n",
       "      <td>67.60</td>\n",
       "      <td>97</td>\n",
       "      <td>52</td>\n",
       "      <td>2.08</td>\n",
       "      <td>PE</td>\n",
       "      <td>1674626221</td>\n",
       "    </tr>\n",
       "    <tr>\n",
       "      <th>2</th>\n",
       "      <td>mar del plata</td>\n",
       "      <td>-38.0023</td>\n",
       "      <td>-57.5575</td>\n",
       "      <td>67.08</td>\n",
       "      <td>73</td>\n",
       "      <td>100</td>\n",
       "      <td>15.01</td>\n",
       "      <td>AR</td>\n",
       "      <td>1674626123</td>\n",
       "    </tr>\n",
       "    <tr>\n",
       "      <th>3</th>\n",
       "      <td>garissa</td>\n",
       "      <td>-0.4536</td>\n",
       "      <td>39.6401</td>\n",
       "      <td>78.87</td>\n",
       "      <td>69</td>\n",
       "      <td>94</td>\n",
       "      <td>5.88</td>\n",
       "      <td>KE</td>\n",
       "      <td>1674626223</td>\n",
       "    </tr>\n",
       "    <tr>\n",
       "      <th>4</th>\n",
       "      <td>la palma</td>\n",
       "      <td>33.8464</td>\n",
       "      <td>-118.0467</td>\n",
       "      <td>58.10</td>\n",
       "      <td>83</td>\n",
       "      <td>0</td>\n",
       "      <td>2.06</td>\n",
       "      <td>US</td>\n",
       "      <td>1674626223</td>\n",
       "    </tr>\n",
       "  </tbody>\n",
       "</table>\n",
       "</div>"
      ],
      "text/plain": [
       "                   City      Lat       Lng  Max Temp  Humidity  Cloudiness  \\\n",
       "City_ID                                                                      \n",
       "0        ribeira grande  38.5167  -28.7000     57.78        90          10   \n",
       "1              mazamari -11.3258  -74.5308     67.60        97          52   \n",
       "2         mar del plata -38.0023  -57.5575     67.08        73         100   \n",
       "3               garissa  -0.4536   39.6401     78.87        69          94   \n",
       "4              la palma  33.8464 -118.0467     58.10        83           0   \n",
       "\n",
       "         Wind Speed Country        Date  \n",
       "City_ID                                  \n",
       "0              4.00      PT  1674626076  \n",
       "1              2.08      PE  1674626221  \n",
       "2             15.01      AR  1674626123  \n",
       "3              5.88      KE  1674626223  \n",
       "4              2.06      US  1674626223  "
      ]
     },
     "execution_count": 3,
     "metadata": {},
     "output_type": "execute_result"
    }
   ],
   "source": [
    "# Read saved data\n",
    "city_data_df = pd.read_csv(\"cities.csv\", index_col=\"City_ID\")\n",
    "\n",
    "# Display sample data\n",
    "city_data_df.head()"
   ]
  },
  {
   "cell_type": "markdown",
   "metadata": {},
   "source": [
    "### Create the Scatter Plots Requested\n",
    "\n",
    "#### Latitude Vs. Temperature"
   ]
  },
  {
   "cell_type": "code",
   "execution_count": 28,
   "metadata": {
    "tags": []
   },
   "outputs": [
    {
     "data": {
      "image/png": "[encoded data removed]",
      "text/plain": [
       "<Figure size 432x288 with 1 Axes>"
      ]
     },
     "metadata": {
      "needs_background": "light"
     },
     "output_type": "display_data"
    },
    {
     "ename": "NameError",
     "evalue": "name 'rvalue' is not defined",
     "output_type": "error",
     "traceback": [
      "\u001b[1;31m---------------------------------------------------------------------------\u001b[0m",
      "\u001b[1;31mNameError\u001b[0m                                 Traceback (most recent call last)",
      "Input \u001b[1;32mIn [28]\u001b[0m, in \u001b[0;36m<cell line: 13>\u001b[1;34m()\u001b[0m\n\u001b[0;32m     11\u001b[0m \u001b[38;5;66;03m# Show plot\u001b[39;00m\n\u001b[0;32m     12\u001b[0m plt\u001b[38;5;241m.\u001b[39mshow()\n\u001b[1;32m---> 13\u001b[0m \u001b[38;5;28mprint\u001b[39m(\u001b[38;5;124mf\u001b[39m\u001b[38;5;124m\"\u001b[39m\u001b[38;5;124mThe r-squared is: \u001b[39m\u001b[38;5;132;01m{\u001b[39;00mrvalue\u001b[38;5;241m*\u001b[39m\u001b[38;5;241m*\u001b[39m\u001b[38;5;241m2\u001b[39m\u001b[38;5;132;01m}\u001b[39;00m\u001b[38;5;124m\"\u001b[39m)\n",
      "\u001b[1;31mNameError\u001b[0m: name 'rvalue' is not defined"
     ]
    }
   ],
   "source": [
    "# Build scatter plot for latitude vs. temperature\n",
    "# Incorporate the other graph properties\n",
    "\n",
    "city_data_df.plot.scatter(x=\"Lat\", y=\"Max Temp\",\n",
    "              title=\"Latitude vs. Temp\")\n",
    "\n",
    "\n",
    "# Save the figure\n",
    "plt.savefig(\"Fig1.png\")\n",
    "\n",
    "# Show plot\n",
    "plt.show()"
   ]
  },
  {
   "cell_type": "markdown",
   "metadata": {},
   "source": [
    "#### Latitude Vs. Humidity"
   ]
  },
  {
   "cell_type": "code",
   "execution_count": 5,
   "metadata": {},
   "outputs": [
    {
     "data": {
      "image/png": "[encoded data removed]",
      "text/plain": [
       "<Figure size 432x288 with 1 Axes>"
      ]
     },
     "metadata": {
      "needs_background": "light"
     },
     "output_type": "display_data"
    }
   ],
   "source": [
    "# Build the scatter plots for latitude vs. humidity\n",
    "city_data_df.plot.scatter(x=\"Lat\", y=\"Humidity\",\n",
    "              title=\"Latitude vs. Humidity\")\n",
    "\n",
    "# Incorporate the other graph properties\n",
    "# YOUR CODE HERE\n",
    "\n",
    "# Save the figure\n",
    "plt.savefig(\"Fig2.png\")\n",
    "\n",
    "# Show plot\n",
    "plt.show()"
   ]
  },
  {
   "cell_type": "markdown",
   "metadata": {},
   "source": [
    "#### Latitude Vs. Cloudiness"
   ]
  },
  {
   "cell_type": "code",
   "execution_count": 6,
   "metadata": {},
   "outputs": [
    {
     "data": {
      "image/png": "[encoded data removed]",
      "text/plain": [
       "<Figure size 432x288 with 1 Axes>"
      ]
     },
     "metadata": {
      "needs_background": "light"
     },
     "output_type": "display_data"
    }
   ],
   "source": [
    "# Build the scatter plots for latitude vs. cloudiness\n",
    "city_data_df.plot.scatter(x=\"Lat\", y=\"Cloudiness\",\n",
    "              title=\"Latitude vs. Cloudiness\")\n",
    "\n",
    "# Incorporate the other graph properties\n",
    "# YOUR CODE HERE\n",
    "\n",
    "# Save the figure\n",
    "plt.savefig(\"Fig3.png\")\n",
    "\n",
    "# Show plot\n",
    "plt.show()"
   ]
  },
  {
   "cell_type": "markdown",
   "metadata": {},
   "source": [
    "#### Latitude vs. Wind Speed Plot"
   ]
  },
  {
   "cell_type": "code",
   "execution_count": 7,
   "metadata": {},
   "outputs": [
    {
     "data": {
      "image/png": "[encoded data removed]",
      "text/plain": [
       "<Figure size 432x288 with 1 Axes>"
      ]
     },
     "metadata": {
      "needs_background": "light"
     },
     "output_type": "display_data"
    }
   ],
   "source": [
    "# Build the scatter plots for latitude vs. wind speed\n",
    "city_data_df.plot.scatter(x=\"Lat\", y=\"Wind Speed\",\n",
    "              title=\"Latitude vs. Wind Speed\")\n",
    "\n",
    "\n",
    "# Incorporate the other graph properties\n",
    "# YOUR CODE HERE\n",
    "\n",
    "# Save the figure\n",
    "plt.savefig(\"Fig4.png\")\n",
    "\n",
    "# Show plot\n",
    "plt.show()"
   ]
  },
  {
   "cell_type": "markdown",
   "metadata": {},
   "source": [
    "---\n",
    "\n",
    "## Requirement 2: Compute Linear Regression for Each Relationship\n"
   ]
  },
  {
   "cell_type": "code",
   "execution_count": 48,
   "metadata": {},
   "outputs": [],
   "source": [
    "# Define a function to create Linear Regression plots\n",
    "\n",
    "def linear_regression(x, y,z,coord):\n",
    "    (slope, intercept, rvalue, pvalue, stderr) = linregress(x, y)\n",
    "    regress_values = x * slope + intercept\n",
    "    line_eq = \"y = \" + str(round(slope,2)) + \"x + \" + str(round(intercept,2))\n",
    "    plt.scatter(x,y)\n",
    "    plt.plot(x,regress_values,\"r-\")\n",
    "    plt.annotate(line_eq,coord,fontsize=15,color=\"red\")\n",
    "    plt.xlabel(x.name)\n",
    "    plt.ylabel(y.name)\n",
    "    plt.title(z)\n",
    "    print(rvalue**2)\n",
    "    plt.show()"
   ]
  },
  {
   "cell_type": "code",
   "execution_count": 9,
   "metadata": {},
   "outputs": [
    {
     "data": {
      "text/html": [
       "<div>\n",
       "<style scoped>\n",
       "    .dataframe tbody tr th:only-of-type {\n",
       "        vertical-align: middle;\n",
       "    }\n",
       "\n",
       "    .dataframe tbody tr th {\n",
       "        vertical-align: top;\n",
       "    }\n",
       "\n",
       "    .dataframe thead th {\n",
       "        text-align: right;\n",
       "    }\n",
       "</style>\n",
       "<table border=\"1\" class=\"dataframe\">\n",
       "  <thead>\n",
       "    <tr style=\"text-align: right;\">\n",
       "      <th></th>\n",
       "      <th>City</th>\n",
       "      <th>Lat</th>\n",
       "      <th>Lng</th>\n",
       "      <th>Max Temp</th>\n",
       "      <th>Humidity</th>\n",
       "      <th>Cloudiness</th>\n",
       "      <th>Wind Speed</th>\n",
       "      <th>Country</th>\n",
       "      <th>Date</th>\n",
       "    </tr>\n",
       "    <tr>\n",
       "      <th>City_ID</th>\n",
       "      <th></th>\n",
       "      <th></th>\n",
       "      <th></th>\n",
       "      <th></th>\n",
       "      <th></th>\n",
       "      <th></th>\n",
       "      <th></th>\n",
       "      <th></th>\n",
       "      <th></th>\n",
       "    </tr>\n",
       "  </thead>\n",
       "  <tbody>\n",
       "    <tr>\n",
       "      <th>0</th>\n",
       "      <td>ribeira grande</td>\n",
       "      <td>38.5167</td>\n",
       "      <td>-28.7000</td>\n",
       "      <td>57.78</td>\n",
       "      <td>90</td>\n",
       "      <td>10</td>\n",
       "      <td>4.00</td>\n",
       "      <td>PT</td>\n",
       "      <td>1674626076</td>\n",
       "    </tr>\n",
       "    <tr>\n",
       "      <th>4</th>\n",
       "      <td>la palma</td>\n",
       "      <td>33.8464</td>\n",
       "      <td>-118.0467</td>\n",
       "      <td>58.10</td>\n",
       "      <td>83</td>\n",
       "      <td>0</td>\n",
       "      <td>2.06</td>\n",
       "      <td>US</td>\n",
       "      <td>1674626223</td>\n",
       "    </tr>\n",
       "    <tr>\n",
       "      <th>6</th>\n",
       "      <td>lasa</td>\n",
       "      <td>46.6166</td>\n",
       "      <td>10.7002</td>\n",
       "      <td>33.03</td>\n",
       "      <td>72</td>\n",
       "      <td>83</td>\n",
       "      <td>3.04</td>\n",
       "      <td>IT</td>\n",
       "      <td>1674626225</td>\n",
       "    </tr>\n",
       "    <tr>\n",
       "      <th>8</th>\n",
       "      <td>san patricio</td>\n",
       "      <td>28.0170</td>\n",
       "      <td>-97.5169</td>\n",
       "      <td>56.84</td>\n",
       "      <td>55</td>\n",
       "      <td>0</td>\n",
       "      <td>15.75</td>\n",
       "      <td>US</td>\n",
       "      <td>1674626226</td>\n",
       "    </tr>\n",
       "    <tr>\n",
       "      <th>13</th>\n",
       "      <td>albany</td>\n",
       "      <td>42.6001</td>\n",
       "      <td>-73.9662</td>\n",
       "      <td>31.68</td>\n",
       "      <td>85</td>\n",
       "      <td>69</td>\n",
       "      <td>4.50</td>\n",
       "      <td>US</td>\n",
       "      <td>1674626230</td>\n",
       "    </tr>\n",
       "  </tbody>\n",
       "</table>\n",
       "</div>"
      ],
      "text/plain": [
       "                   City      Lat       Lng  Max Temp  Humidity  Cloudiness  \\\n",
       "City_ID                                                                      \n",
       "0        ribeira grande  38.5167  -28.7000     57.78        90          10   \n",
       "4              la palma  33.8464 -118.0467     58.10        83           0   \n",
       "6                  lasa  46.6166   10.7002     33.03        72          83   \n",
       "8          san patricio  28.0170  -97.5169     56.84        55           0   \n",
       "13               albany  42.6001  -73.9662     31.68        85          69   \n",
       "\n",
       "         Wind Speed Country        Date  \n",
       "City_ID                                  \n",
       "0              4.00      PT  1674626076  \n",
       "4              2.06      US  1674626223  \n",
       "6              3.04      IT  1674626225  \n",
       "8             15.75      US  1674626226  \n",
       "13             4.50      US  1674626230  "
      ]
     },
     "execution_count": 9,
     "metadata": {},
     "output_type": "execute_result"
    }
   ],
   "source": [
    "# Create a DataFrame with the Northern Hemisphere data (Latitude >= 0)\n",
    "northern_hemi_df = pd.DataFrame(city_data_df.loc[(city_data_df['Lat']>=0),:])\n",
    "\n",
    "# Display sample data\n",
    "northern_hemi_df.head()"
   ]
  },
  {
   "cell_type": "code",
   "execution_count": 16,
   "metadata": {},
   "outputs": [
    {
     "data": {
      "text/html": [
       "<div>\n",
       "<style scoped>\n",
       "    .dataframe tbody tr th:only-of-type {\n",
       "        vertical-align: middle;\n",
       "    }\n",
       "\n",
       "    .dataframe tbody tr th {\n",
       "        vertical-align: top;\n",
       "    }\n",
       "\n",
       "    .dataframe thead th {\n",
       "        text-align: right;\n",
       "    }\n",
       "</style>\n",
       "<table border=\"1\" class=\"dataframe\">\n",
       "  <thead>\n",
       "    <tr style=\"text-align: right;\">\n",
       "      <th></th>\n",
       "      <th>City</th>\n",
       "      <th>Lat</th>\n",
       "      <th>Lng</th>\n",
       "      <th>Max Temp</th>\n",
       "      <th>Humidity</th>\n",
       "      <th>Cloudiness</th>\n",
       "      <th>Wind Speed</th>\n",
       "      <th>Country</th>\n",
       "      <th>Date</th>\n",
       "    </tr>\n",
       "    <tr>\n",
       "      <th>City_ID</th>\n",
       "      <th></th>\n",
       "      <th></th>\n",
       "      <th></th>\n",
       "      <th></th>\n",
       "      <th></th>\n",
       "      <th></th>\n",
       "      <th></th>\n",
       "      <th></th>\n",
       "      <th></th>\n",
       "    </tr>\n",
       "  </thead>\n",
       "  <tbody>\n",
       "    <tr>\n",
       "      <th>1</th>\n",
       "      <td>mazamari</td>\n",
       "      <td>-11.3258</td>\n",
       "      <td>-74.5308</td>\n",
       "      <td>67.60</td>\n",
       "      <td>97</td>\n",
       "      <td>52</td>\n",
       "      <td>2.08</td>\n",
       "      <td>PE</td>\n",
       "      <td>1674626221</td>\n",
       "    </tr>\n",
       "    <tr>\n",
       "      <th>2</th>\n",
       "      <td>mar del plata</td>\n",
       "      <td>-38.0023</td>\n",
       "      <td>-57.5575</td>\n",
       "      <td>67.08</td>\n",
       "      <td>73</td>\n",
       "      <td>100</td>\n",
       "      <td>15.01</td>\n",
       "      <td>AR</td>\n",
       "      <td>1674626123</td>\n",
       "    </tr>\n",
       "    <tr>\n",
       "      <th>3</th>\n",
       "      <td>garissa</td>\n",
       "      <td>-0.4536</td>\n",
       "      <td>39.6401</td>\n",
       "      <td>78.87</td>\n",
       "      <td>69</td>\n",
       "      <td>94</td>\n",
       "      <td>5.88</td>\n",
       "      <td>KE</td>\n",
       "      <td>1674626223</td>\n",
       "    </tr>\n",
       "    <tr>\n",
       "      <th>5</th>\n",
       "      <td>ushuaia</td>\n",
       "      <td>-54.8000</td>\n",
       "      <td>-68.3000</td>\n",
       "      <td>47.86</td>\n",
       "      <td>61</td>\n",
       "      <td>40</td>\n",
       "      <td>9.22</td>\n",
       "      <td>AR</td>\n",
       "      <td>1674626107</td>\n",
       "    </tr>\n",
       "    <tr>\n",
       "      <th>7</th>\n",
       "      <td>new norfolk</td>\n",
       "      <td>-42.7826</td>\n",
       "      <td>147.0587</td>\n",
       "      <td>81.88</td>\n",
       "      <td>35</td>\n",
       "      <td>99</td>\n",
       "      <td>8.01</td>\n",
       "      <td>AU</td>\n",
       "      <td>1674626225</td>\n",
       "    </tr>\n",
       "  </tbody>\n",
       "</table>\n",
       "</div>"
      ],
      "text/plain": [
       "                  City      Lat       Lng  Max Temp  Humidity  Cloudiness  \\\n",
       "City_ID                                                                     \n",
       "1             mazamari -11.3258  -74.5308     67.60        97          52   \n",
       "2        mar del plata -38.0023  -57.5575     67.08        73         100   \n",
       "3              garissa  -0.4536   39.6401     78.87        69          94   \n",
       "5              ushuaia -54.8000  -68.3000     47.86        61          40   \n",
       "7          new norfolk -42.7826  147.0587     81.88        35          99   \n",
       "\n",
       "         Wind Speed Country        Date  \n",
       "City_ID                                  \n",
       "1              2.08      PE  1674626221  \n",
       "2             15.01      AR  1674626123  \n",
       "3              5.88      KE  1674626223  \n",
       "5              9.22      AR  1674626107  \n",
       "7              8.01      AU  1674626225  "
      ]
     },
     "execution_count": 16,
     "metadata": {},
     "output_type": "execute_result"
    }
   ],
   "source": [
    "# Create a DataFrame with the Southern Hemisphere data (Latitude < 0)\n",
    "southern_hemi_df = pd.DataFrame(city_data_df.loc[(city_data_df['Lat']<0),:])\n",
    "\n",
    "# Display sample data\n",
    "southern_hemi_df.head()"
   ]
  },
  {
   "cell_type": "markdown",
   "metadata": {},
   "source": [
    "###  Temperature vs. Latitude Linear Regression Plot"
   ]
  },
  {
   "cell_type": "code",
   "execution_count": 49,
   "metadata": {},
   "outputs": [
    {
     "name": "stdout",
     "output_type": "stream",
     "text": [
      "0.711584686145659\n"
     ]
    },
    {
     "data": {
      "image/png": "[encoded data removed]",
      "text/plain": [
       "<Figure size 432x288 with 1 Axes>"
      ]
     },
     "metadata": {
      "needs_background": "light"
     },
     "output_type": "display_data"
    }
   ],
   "source": [
    "# Linear regression on Northern Hemisphere\n",
    "x_values = northern_hemi_df['Lat']\n",
    "y_values = northern_hemi_df['Max Temp']\n",
    "z= \"Temp vs. Lat in Northern Hemisphere\"\n",
    "colA = northern_hemi_df['Lat']\n",
    "colB = northern_hemi_df['Max Temp']\n",
    "coord= (5.8, 0.8)\n",
    "\n",
    "linear_regression(x_values, y_values, z, coord)"
   ]
  },
  {
   "cell_type": "code",
   "execution_count": 50,
   "metadata": {},
   "outputs": [
    {
     "name": "stdout",
     "output_type": "stream",
     "text": [
      "0.15943151189264657\n"
     ]
    },
    {
     "data": {
      "image/png": "[encoded data removed]",
      "text/plain": [
       "<Figure size 432x288 with 1 Axes>"
      ]
     },
     "metadata": {
      "needs_background": "light"
     },
     "output_type": "display_data"
    }
   ],
   "source": [
    "# Linear regression on Southern Hemisphere\n",
    "x_values = southern_hemi_df['Lat']\n",
    "y_values = southern_hemi_df['Max Temp']\n",
    "z= \"Temp vs. Lat in Southern Hemisphere\"\n",
    "coord = (-55,90)\n",
    "\n",
    "linear_regression(x_values, y_values, z, coord)"
   ]
  },
  {
   "cell_type": "markdown",
   "metadata": {},
   "source": [
    "**Discussion about the linear relationship:** As the latitude moves towards zero (the equator) the temperature increases. As such, temperature and latitude can be interpreted as having a negative correlation."
   ]
  },
  {
   "cell_type": "markdown",
   "metadata": {},
   "source": [
    "### Humidity vs. Latitude Linear Regression Plot"
   ]
  },
  {
   "cell_type": "code",
   "execution_count": 51,
   "metadata": {},
   "outputs": [
    {
     "name": "stdout",
     "output_type": "stream",
     "text": [
      "0.20359567472994616\n"
     ]
    },
    {
     "data": {
      "image/png": "[encoded data removed]",
      "text/plain": [
       "<Figure size 432x288 with 1 Axes>"
      ]
     },
     "metadata": {
      "needs_background": "light"
     },
     "output_type": "display_data"
    }
   ],
   "source": [
    "# Northern Hemisphere\n",
    "x_values = northern_hemi_df['Lat']\n",
    "y_values = northern_hemi_df['Humidity']\n",
    "z= \"Humidity vs. Lat in Northern Hemisphere\"\n",
    "coord= (5.8, 0.8)\n",
    "\n",
    "linear_regression(x_values, y_values, z, coord)"
   ]
  },
  {
   "cell_type": "code",
   "execution_count": 45,
   "metadata": {},
   "outputs": [
    {
     "name": "stdout",
     "output_type": "stream",
     "text": [
      "0.4498862919095712\n"
     ]
    },
    {
     "data": {
      "image/png": "[encoded data removed]",
      "text/plain": [
       "<Figure size 432x288 with 1 Axes>"
      ]
     },
     "metadata": {
      "needs_background": "light"
     },
     "output_type": "display_data"
    }
   ],
   "source": [
    "# Southern Hemisphere\n",
    "x_values = southern_hemi_df['Lat']\n",
    "y_values = southern_hemi_df['Humidity']\n",
    "z= \"Humidity vs. Lat in Southern Hemisphere\"\n",
    "coord = (-55,90)\n",
    "\n",
    "linear_regression(x_values, y_values, z, coord)"
   ]
  },
  {
   "cell_type": "markdown",
   "metadata": {},
   "source": [
    "**Discussion about the linear relationship:** As the latitude increases, the humidity also increases. We can conclude that there is a positive correlation between latitude and humidity."
   ]
  },
  {
   "cell_type": "markdown",
   "metadata": {},
   "source": [
    "### Cloudiness vs. Latitude Linear Regression Plot"
   ]
  },
  {
   "cell_type": "code",
   "execution_count": 46,
   "metadata": {},
   "outputs": [
    {
     "name": "stdout",
     "output_type": "stream",
     "text": [
      "0.3048516322274364\n"
     ]
    },
    {
     "data": {
      "image/png": "[encoded data removed]",
      "text/plain": [
       "<Figure size 432x288 with 1 Axes>"
      ]
     },
     "metadata": {
      "needs_background": "light"
     },
     "output_type": "display_data"
    }
   ],
   "source": [
    "# Northern Hemisphere\n",
    "x_values = northern_hemi_df['Lat']\n",
    "y_values = northern_hemi_df['Cloudiness']\n",
    "z= \"Cloudiness vs. Lat in Northern Hemisphere\"\n",
    "coord= (5.8, 0.8)\n",
    "\n",
    "linear_regression(x_values, y_values, z, coord)\n"
   ]
  },
  {
   "cell_type": "code",
   "execution_count": 47,
   "metadata": {},
   "outputs": [
    {
     "name": "stdout",
     "output_type": "stream",
     "text": [
      "0.4195770859814444\n"
     ]
    },
    {
     "data": {
      "image/png": "[encoded data removed]",
      "text/plain": [
       "<Figure size 432x288 with 1 Axes>"
      ]
     },
     "metadata": {
      "needs_background": "light"
     },
     "output_type": "display_data"
    }
   ],
   "source": [
    "# Southern Hemisphere\n",
    "x_values = southern_hemi_df['Lat']\n",
    "y_values = southern_hemi_df['Cloudiness']\n",
    "z= \"Cloudiness vs. Lat in Southern Hemisphere\"\n",
    "coord = (-55,90)\n",
    "\n",
    "linear_regression(x_values, y_values, z, coord)"
   ]
  },
  {
   "cell_type": "markdown",
   "metadata": {},
   "source": [
    "**Discussion about the linear relationship:** YOUR RESPONSE HERE"
   ]
  },
  {
   "cell_type": "markdown",
   "metadata": {},
   "source": [
    "### Wind Speed vs. Latitude Linear Regression Plot"
   ]
  },
  {
   "cell_type": "code",
   "execution_count": 52,
   "metadata": {},
   "outputs": [
    {
     "name": "stdout",
     "output_type": "stream",
     "text": [
      "0.022796711204798707\n"
     ]
    },
    {
     "data": {
      "image/png": "[encoded data removed]",
      "text/plain": [
       "<Figure size 432x288 with 1 Axes>"
      ]
     },
     "metadata": {
      "needs_background": "light"
     },
     "output_type": "display_data"
    }
   ],
   "source": [
    "# Northern Hemisphere\n",
    "x_values = northern_hemi_df['Lat']\n",
    "y_values = northern_hemi_df['Wind Speed']\n",
    "z= \"Cloudiness vs. Lat in Northern Hemisphere\"\n",
    "coord= (5.8, 0.8)\n",
    "\n",
    "linear_regression(x_values, y_values, z, coord)"
   ]
  },
  {
   "cell_type": "code",
   "execution_count": 53,
   "metadata": {},
   "outputs": [
    {
     "name": "stdout",
     "output_type": "stream",
     "text": [
      "0.13909475141955452\n"
     ]
    },
    {
     "data": {
      "image/png": "[encoded data removed]",
      "text/plain": [
       "<Figure size 432x288 with 1 Axes>"
      ]
     },
     "metadata": {
      "needs_background": "light"
     },
     "output_type": "display_data"
    }
   ],
   "source": [
    "# Southern Hemisphere\n",
    "x_values = southern_hemi_df['Lat']\n",
    "y_values = southern_hemi_df['Wind Speed']\n",
    "z= \"Wind Speed vs. Lat in Southern Hemisphere\"\n",
    "coord = (-55,90)\n",
    "\n",
    "linear_regression(x_values, y_values, z, coord)"
   ]
  },
  {
   "cell_type": "markdown",
   "metadata": {},
   "source": [
    "**Discussion about the linear relationship:** YOUR RESPONSE HERE"
   ]
  },
  {
   "cell_type": "code",
   "execution_count": null,
   "metadata": {},
   "outputs": [],
   "source": []
  }
 ],
 "metadata": {
  "anaconda-cloud": {},
  "kernel_info": {
   "name": "python3"
  },
  "kernelspec": {
   "display_name": "Python 3 (ipykernel)",
   "language": "python",
   "name": "python3"
  },
  "language_info": {
   "codemirror_mode": {
    "name": "ipython",
    "version": 3
   },
   "file_extension": ".py",
   "mimetype": "text/x-python",
   "name": "python",
   "nbconvert_exporter": "python",
   "pygments_lexer": "ipython3",
   "version": "3.9.12"
  },
  "latex_envs": {
   "LaTeX_envs_menu_present": true,
   "autoclose": false,
   "autocomplete": true,
   "bibliofile": "biblio.bib",
   "cite_by": "apalike",
   "current_citInitial": 1,
   "eqLabelWithNumbers": true,
   "eqNumInitial": 1,
   "hotkeys": {
    "equation": "Ctrl-E",
    "itemize": "Ctrl-I"
   },
   "labels_anchors": false,
   "latex_user_defs": false,
   "report_style_numbering": false,
   "user_envs_cfg": false
  },
  "nteract": {
   "version": "0.12.3"
  }
 },
 "nbformat": 4,
 "nbformat_minor": 4
}
